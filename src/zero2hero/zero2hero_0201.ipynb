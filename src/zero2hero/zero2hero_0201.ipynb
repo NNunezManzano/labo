{
 "cells": [
  {
   "cell_type": "markdown",
   "metadata": {},
   "source": [
    "# Zero to Hero"
   ]
  },
  {
   "cell_type": "markdown",
   "metadata": {},
   "source": [
    "## 2.01 Optimizacion Bayesiana"
   ]
  },
  {
   "cell_type": "raw",
   "metadata": {},
   "source": [
    "El objetivo es mostrar como funciona la Optimizacion Bayesiana en el caso mas simple : una funcion univariada"
   ]
  },
  {
   "cell_type": "markdown",
   "metadata": {},
   "source": [
    "### Advertencia"
   ]
  },
  {
   "cell_type": "markdown",
   "metadata": {},
   "source": [
    "El uso del método de Optimización Bayesiana para la optimización de hiperparámetros en modelos predictivos tiene menos de una década.\n",
    "Entender los fundamentos de la O.B. requieren de una sólida formación matemática y **no** son el objetivo de esta asignatura.\n",
    "Para quienes deseen aventurarse a los detalles técnicos:\n",
    "* El paper original de la libreria mlrMBO (año 2018 )   https://arxiv.org/pdf/1703.03373.pdf\n",
    "* El método de Kriging , tal cual se deriva del uso original, en este pequeño libro de 106 páginas \"Basic Steps in Geostatistics: The Variogram and Kriging\" https://www.pdfdrive.com/basic-steps-in-geostatistics-the-variogram-and-kriging-e187336318.html"
   ]
  },
  {
   "cell_type": "markdown",
   "metadata": {},
   "source": [
    "### El código"
   ]
  },
  {
   "cell_type": "code",
   "execution_count": 1,
   "metadata": {},
   "outputs": [
    {
     "data": {
      "text/html": [
       "<table class=\"dataframe\">\n",
       "<caption>A matrix: 2 × 6 of type dbl</caption>\n",
       "<thead>\n",
       "\t<tr><th></th><th scope=col>used</th><th scope=col>(Mb)</th><th scope=col>gc trigger</th><th scope=col>(Mb)</th><th scope=col>max used</th><th scope=col>(Mb)</th></tr>\n",
       "</thead>\n",
       "<tbody>\n",
       "\t<tr><th scope=row>Ncells</th><td> 614349</td><td>32.9</td><td>1331124</td><td>71.1</td><td>1143701</td><td>61.1</td></tr>\n",
       "\t<tr><th scope=row>Vcells</th><td>1150876</td><td> 8.8</td><td>8388608</td><td>64.0</td><td>1801047</td><td>13.8</td></tr>\n",
       "</tbody>\n",
       "</table>\n"
      ],
      "text/latex": [
       "A matrix: 2 × 6 of type dbl\n",
       "\\begin{tabular}{r|llllll}\n",
       "  & used & (Mb) & gc trigger & (Mb) & max used & (Mb)\\\\\n",
       "\\hline\n",
       "\tNcells &  614349 & 32.9 & 1331124 & 71.1 & 1143701 & 61.1\\\\\n",
       "\tVcells & 1150876 &  8.8 & 8388608 & 64.0 & 1801047 & 13.8\\\\\n",
       "\\end{tabular}\n"
      ],
      "text/markdown": [
       "\n",
       "A matrix: 2 × 6 of type dbl\n",
       "\n",
       "| <!--/--> | used | (Mb) | gc trigger | (Mb) | max used | (Mb) |\n",
       "|---|---|---|---|---|---|---|\n",
       "| Ncells |  614349 | 32.9 | 1331124 | 71.1 | 1143701 | 61.1 |\n",
       "| Vcells | 1150876 |  8.8 | 8388608 | 64.0 | 1801047 | 13.8 |\n",
       "\n"
      ],
      "text/plain": [
       "       used    (Mb) gc trigger (Mb) max used (Mb)\n",
       "Ncells  614349 32.9 1331124    71.1 1143701  61.1\n",
       "Vcells 1150876  8.8 8388608    64.0 1801047  13.8"
      ]
     },
     "metadata": {},
     "output_type": "display_data"
    },
    {
     "name": "stderr",
     "output_type": "stream",
     "text": [
      "Loading required package: data.table\n",
      "\n",
      "Loading required package: DiceKriging\n",
      "\n",
      "Loading required package: mlrMBO\n",
      "\n",
      "Loading required package: mlr\n",
      "\n",
      "Loading required package: ParamHelpers\n",
      "\n",
      "Warning message: 'mlr' is in 'maintenance-only' mode since July 2019.\n",
      "Future development will only happen in 'mlr3'\n",
      "(<https://mlr3.mlr-org.com>). Due to the focus on 'mlr3' there might be\n",
      "uncaught bugs meanwhile in {mlr} - please consider switching.\n",
      "\n",
      "Loading required package: smoof\n",
      "\n",
      "Loading required package: checkmate\n",
      "\n",
      "\n",
      "Attaching package: ‘checkmate’\n",
      "\n",
      "\n",
      "The following object is masked from ‘package:DiceKriging’:\n",
      "\n",
      "    checkNames\n",
      "\n",
      "\n"
     ]
    }
   ],
   "source": [
    "#Ejemplo de optimizacion bayesiana, univariada\n",
    "\n",
    "#limpio la memoria\n",
    "rm( list=ls() )  #remove all objects\n",
    "gc()             #garbage collection\n",
    "\n",
    "require(\"data.table\")\n",
    "#paquetes necesarios para la Bayesian Optimization\n",
    "require(\"DiceKriging\")\n",
    "require(\"mlrMBO\")\n",
    "\n",
    "options(repr.plot.width=20, repr.plot.height=10)"
   ]
  },
  {
   "cell_type": "markdown",
   "metadata": {},
   "source": [
    "### Defino la funcion a optimizar, un polinomio de grado 4"
   ]
  },
  {
   "cell_type": "code",
   "execution_count": 2,
   "metadata": {},
   "outputs": [],
   "source": [
    "func_univariada01  <- function( x )\n",
    "{\n",
    "  y  <- -2 * (x+13) * (x-3) * (x-7) * (x-19)\n",
    "\n",
    "  return( y )\n",
    "}"
   ]
  },
  {
   "cell_type": "markdown",
   "metadata": {},
   "source": [
    "Grafico la funcion"
   ]
  },
  {
   "cell_type": "code",
   "execution_count": 3,
   "metadata": {},
   "outputs": [
    {
     "data": {
      "image/png": "[encoded data removed]",
      "text/plain": [
       "plot without title"
      ]
     },
     "metadata": {
      "image/png": {
       "height": 600,
       "width": 1200
      }
     },
     "output_type": "display_data"
    }
   ],
   "source": [
    "intervalo  <- seq(-15,21,0.1)\n",
    "plot(intervalo, func_univariada01(intervalo))"
   ]
  },
  {
   "cell_type": "markdown",
   "metadata": {},
   "source": [
    "La funcion tiene dos máximos, uno de ellos es el global."
   ]
  },
  {
   "cell_type": "markdown",
   "metadata": {},
   "source": [
    "### Optimizacion Bayesiana"
   ]
  },
  {
   "cell_type": "markdown",
   "metadata": {},
   "source": [
    "¿Qué tan rápido encontrará la Optmización Bayesiana el máximo global?"
   ]
  },
  {
   "cell_type": "markdown",
   "metadata": {},
   "source": [
    "Defino las caracteristicas de la optimizacion"
   ]
  },
  {
   "cell_type": "markdown",
   "metadata": {},
   "source": [
    "* **fn**    es el nombre de la funcion\n",
    "* **minimize**   por defecto es TRUE,  pero en este caso le asigno FALSE, ya que deseo maximizar  el valor\n",
    "* **par.set**  indica cuales son los hiperparmetros de la funcion, en este caso hay una sola variable que llamé  x\n",
    "---\n",
    "* **makeNumericParam** indica que ese hiperparámetro es un numero real, una variable continua  ( no es ni un entero ni una categoria )"
   ]
  },
  {
   "cell_type": "code",
   "execution_count": 4,
   "metadata": {},
   "outputs": [],
   "source": [
    "obj.fun  <- makeSingleObjectiveFunction(\n",
    "              fn=       func_univariada01,\n",
    "              minimize= FALSE,   #estoy Maximizando la ganancia\n",
    "              par.set=  makeParamSet(  makeNumericParam( \"x\", lower= -100, upper=  100) ),\n",
    "             )"
   ]
  },
  {
   "cell_type": "markdown",
   "metadata": {},
   "source": [
    "ahora defino la funcion proxy, la que se construye internamente intentando emular la realidad"
   ]
  },
  {
   "cell_type": "markdown",
   "metadata": {},
   "source": [
    "* **cl**  es la clase de learner,  \"reg.km\" indica el método de kriging \"**reg**ression **k**riging **m**ethodd\"\n",
    "* **predict.type**  es el tipo de prediccion que deseo me devuelva, \"se\" significa que espero dos valores  media y standard error\n",
    "* **covtype**    es la funcion de covarianza que se va a utilizar, cual es la covarianza de dos mediciones como fucion de la distancia entre los puntos donde fueron tomadas las mediciones, fue inventada por Bertil Matérn "
   ]
  },
  {
   "cell_type": "markdown",
   "metadata": {},
   "source": [
    "El método de kriging puede verse en su forma original (la geología) , esta presentación https://www.youtube.com/watch?v=ZB7GvJrNKq0"
   ]
  },
  {
   "cell_type": "code",
   "execution_count": 5,
   "metadata": {},
   "outputs": [],
   "source": [
    "fproxy  <- makeLearner( cl= \"regr.km\",\n",
    "                        predict.type= \"se\", \n",
    "                        covtype= \"matern3_2\" )"
   ]
  },
  {
   "cell_type": "markdown",
   "metadata": {},
   "source": [
    "ultima definicion,  especificar la optimizacion bayesiana\n",
    "*  **crit**   indica el criterio con el que se completan los valores iniciales \"no inteligentes\"\n",
    "*  **iters**  indica la cantidad de iteraciones inteligentes que hará la Optimizacion Bayesiana, las que son adicionales a las primeras cuatro de este caso.*  **iters**  indica la cantidad de iteraciones inteligentes que hará la Optimizacion Bayesiana, las que son adicionales a las primeras cuatro de este caso."
   ]
  },
  {
   "cell_type": "code",
   "execution_count": 6,
   "metadata": {},
   "outputs": [],
   "source": [
    "ctrl  <- makeMBOControl()\n",
    "ctrl  <- setMBOControlInfill( ctrl, crit= makeMBOInfillCritEI())\n",
    "ctrl  <- setMBOControlTermination( ctrl, iters= 25 )"
   ]
  },
  {
   "cell_type": "markdown",
   "metadata": {},
   "source": [
    "finalmente , lanzo la Optimizacion Bayesiana"
   ]
  },
  {
   "cell_type": "markdown",
   "metadata": {},
   "source": [
    "* **fun**  es la especificacion de la funcion que deseo optimizar, si maximizo o minimizo, cuales son las variables de la misma\n",
    "* **learner**  especifica cual es la función proxy interna que va a utilizar la Optimziación Bayesiana\n",
    "* **control**  indica la la forma en que se harán las iteraciones"
   ]
  },
  {
   "cell_type": "code",
   "execution_count": 7,
   "metadata": {},
   "outputs": [
    {
     "name": "stderr",
     "output_type": "stream",
     "text": [
      "Computing y column(s) for design. Not provided.\n",
      "\n",
      "[mbo] 0: x=-49.7 : y = -1.51e+07 : 0.0 secs : initdesign\n",
      "\n",
      "[mbo] 0: x=73.2 : y = -4.35e+07 : 0.0 secs : initdesign\n",
      "\n",
      "[mbo] 0: x=22.6 : y = -7.79e+04 : 0.0 secs : initdesign\n",
      "\n",
      "[mbo] 0: x=-82.2 : y = -1.06e+08 : 0.0 secs : initdesign\n",
      "\n"
     ]
    },
    {
     "name": "stdout",
     "output_type": "stream",
     "text": [
      "\n",
      "optimisation start\n",
      "------------------\n",
      "* estimation method   : MLE \n",
      "* optimisation method : BFGS \n",
      "* analytical gradient : used\n",
      "* trend model : ~1\n",
      "* covariance model : \n",
      "  - type :  matern3_2 \n",
      "  - nugget : NO\n",
      "  - parameters lower bounds :  1e-10 \n",
      "  - parameters upper bounds :  310.8679 \n",
      "  - best initial criterion value(s) :  -75.76741 \n",
      "\n",
      "N = 1, M = 5 machine precision = 2.22045e-16\n",
      "At X0, 0 variables are exactly at the bounds\n",
      "At iterate     0  f=       75.767  |proj g|=     0.002502\n",
      "At iterate     1  f =       75.767  |proj g|=      0.002497\n",
      "At iterate     2  f =       75.766  |proj g|=    0.00068611\n",
      "At iterate     3  f =       75.765  |proj g|=    0.00034104\n",
      "At iterate     4  f =       75.765  |proj g|=    0.00014396\n",
      "At iterate     5  f =       75.765  |proj g|=    6.6483e-05\n",
      "At iterate     6  f =       75.765  |proj g|=    3.0253e-05\n",
      "At iterate     7  f =       75.765  |proj g|=    1.4042e-05\n",
      "At iterate     8  f =       75.765  |proj g|=      6.54e-06\n",
      "At iterate     9  f =       75.765  |proj g|=    3.0689e-06\n",
      "At iterate    10  f =       75.765  |proj g|=    1.4464e-06\n",
      "At iterate    11  f =       75.765  |proj g|=    6.8467e-07\n",
      "\n",
      "iterations 11\n",
      "function evaluations 12\n",
      "segments explored during Cauchy searches 11\n",
      "BFGS updates skipped 0\n",
      "active bounds at final generalized Cauchy point 0\n",
      "norm of the final projected gradient 6.84668e-07\n",
      "final function value 75.7652\n",
      "\n",
      "F = 75.7652\n",
      "final  value 75.765161 \n",
      "converged\n"
     ]
    },
    {
     "name": "stderr",
     "output_type": "stream",
     "text": [
      "[mbo] 1: x=20.6 : y = -2.58e+04 : 0.0 secs : infill_ei\n",
      "\n"
     ]
    },
    {
     "name": "stdout",
     "output_type": "stream",
     "text": [
      "\n",
      "optimisation start\n",
      "------------------\n",
      "* estimation method   : MLE \n",
      "* optimisation method : BFGS \n",
      "* analytical gradient : used\n",
      "* trend model : ~1\n",
      "* covariance model : \n",
      "  - type :  matern3_2 \n",
      "  - nugget : NO\n",
      "  - parameters lower bounds :  1e-10 \n",
      "  - parameters upper bounds :  310.8679 \n",
      "  - best initial criterion value(s) :  -92.66218 \n",
      "\n",
      "N = 1, M = 5 machine precision = 2.22045e-16\n",
      "At X0, 0 variables are exactly at the bounds\n",
      "At iterate     0  f=       92.662  |proj g|=   3.1726e-05\n",
      "At iterate     1  f =       92.662  |proj g|=    3.1669e-05\n",
      "\n",
      "iterations 1\n",
      "function evaluations 2\n",
      "segments explored during Cauchy searches 1\n",
      "BFGS updates skipped 0\n",
      "active bounds at final generalized Cauchy point 0\n",
      "norm of the final projected gradient 3.16691e-05\n",
      "final function value 92.6622\n",
      "\n",
      "F = 92.6622\n",
      "final  value 92.662179 \n",
      "converged\n"
     ]
    },
    {
     "name": "stderr",
     "output_type": "stream",
     "text": [
      "[mbo] 2: x=-22.4 : y = -5.79e+05 : 0.0 secs : infill_ei\n",
      "\n"
     ]
    },
    {
     "name": "stdout",
     "output_type": "stream",
     "text": [
      "\n",
      "optimisation start\n",
      "------------------\n",
      "* estimation method   : MLE \n",
      "* optimisation method : BFGS \n",
      "* analytical gradient : used\n",
      "* trend model : ~1\n",
      "* covariance model : \n",
      "  - type :  matern3_2 \n",
      "  - nugget : NO\n",
      "  - parameters lower bounds :  1e-10 \n",
      "  - parameters upper bounds :  310.8679 \n",
      "  - best initial criterion value(s) :  -110.9013 \n",
      "\n",
      "N = 1, M = 5 machine precision = 2.22045e-16\n",
      "At X0, 0 variables are exactly at the bounds\n",
      "At iterate     0  f=        110.9  |proj g|=    0.0018422\n",
      "At iterate     1  f =        110.9  |proj g|=     0.0018408\n",
      "At iterate     2  f =        110.9  |proj g|=    0.00015318\n",
      "At iterate     3  f =        110.9  |proj g|=      1.41e-05\n",
      "At iterate     4  f =        110.9  |proj g|=    1.2173e-07\n",
      "\n",
      "iterations 4\n",
      "function evaluations 5\n",
      "segments explored during Cauchy searches 4\n",
      "BFGS updates skipped 0\n",
      "active bounds at final generalized Cauchy point 0\n",
      "norm of the final projected gradient 1.21731e-07\n",
      "final function value 110.899\n",
      "\n",
      "F = 110.899\n",
      "final  value 110.898984 \n",
      "converged\n"
     ]
    },
    {
     "name": "stderr",
     "output_type": "stream",
     "text": [
      "[mbo] 3: x=-2.11 : y = 2.14e+04 : 0.0 secs : infill_ei\n",
      "\n"
     ]
    },
    {
     "name": "stdout",
     "output_type": "stream",
     "text": [
      "\n",
      "optimisation start\n",
      "------------------\n",
      "* estimation method   : MLE \n",
      "* optimisation method : BFGS \n",
      "* analytical gradient : used\n",
      "* trend model : ~1\n",
      "* covariance model : \n",
      "  - type :  matern3_2 \n",
      "  - nugget : NO\n",
      "  - parameters lower bounds :  1e-10 \n",
      "  - parameters upper bounds :  310.8679 \n",
      "  - best initial criterion value(s) :  -128.1741 \n",
      "\n",
      "N = 1, M = 5 machine precision = 2.22045e-16\n",
      "At X0, 0 variables are exactly at the bounds\n",
      "At iterate     0  f=       128.17  |proj g|=   0.00079549\n",
      "At iterate     1  f =       128.17  |proj g|=    0.00079526\n",
      "At iterate     2  f =       128.17  |proj g|=    4.6932e-05\n",
      "At iterate     3  f =       128.17  |proj g|=    2.9787e-06\n",
      "At iterate     4  f =       128.17  |proj g|=    1.2111e-08\n",
      "\n",
      "iterations 4\n",
      "function evaluations 5\n",
      "segments explored during Cauchy searches 4\n",
      "BFGS updates skipped 0\n",
      "active bounds at final generalized Cauchy point 0\n",
      "norm of the final projected gradient 1.21112e-08\n",
      "final function value 128.173\n",
      "\n",
      "F = 128.173\n",
      "final  value 128.172939 \n",
      "converged\n"
     ]
    },
    {
     "name": "stderr",
     "output_type": "stream",
     "text": [
      "[mbo] 4: x=-33.4 : y = -3.15e+06 : 0.0 secs : infill_ei\n",
      "\n"
     ]
    },
    {
     "name": "stdout",
     "output_type": "stream",
     "text": [
      "\n",
      "optimisation start\n",
      "------------------\n",
      "* estimation method   : MLE \n",
      "* optimisation method : BFGS \n",
      "* analytical gradient : used\n",
      "* trend model : ~1\n",
      "* covariance model : \n",
      "  - type :  matern3_2 \n",
      "  - nugget : NO\n",
      "  - parameters lower bounds :  1e-10 \n",
      "  - parameters upper bounds :  310.8679 \n",
      "  - best initial criterion value(s) :  -144.6616 \n",
      "\n",
      "N = 1, M = 5 machine precision = 2.22045e-16\n",
      "At X0, 0 variables are exactly at the bounds\n",
      "At iterate     0  f=       144.66  |proj g|=   0.00021348\n",
      "At iterate     1  f =       144.66  |proj g|=    0.00021345\n",
      "\n",
      "iterations 1\n",
      "function evaluations 2\n",
      "segments explored during Cauchy searches 1\n",
      "BFGS updates skipped 0\n",
      "active bounds at final generalized Cauchy point 0\n",
      "norm of the final projected gradient 0.000213453\n",
      "final function value 144.662\n",
      "\n",
      "F = 144.662\n",
      "final  value 144.661577 \n",
      "converged\n"
     ]
    },
    {
     "name": "stderr",
     "output_type": "stream",
     "text": [
      "[mbo] 5: x=-11.8 : y = 2.01e+04 : 0.0 secs : infill_ei\n",
      "\n"
     ]
    },
    {
     "name": "stdout",
     "output_type": "stream",
     "text": [
      "\n",
      "optimisation start\n",
      "------------------\n",
      "* estimation method   : MLE \n",
      "* optimisation method : BFGS \n",
      "* analytical gradient : used\n",
      "* trend model : ~1\n",
      "* covariance model : \n",
      "  - type :  matern3_2 \n",
      "  - nugget : NO\n",
      "  - parameters lower bounds :  1e-10 \n",
      "  - parameters upper bounds :  310.8679 \n",
      "  - best initial criterion value(s) :  -160.4293 \n",
      "\n",
      "N = 1, M = 5 machine precision = 2.22045e-16\n",
      "At X0, 0 variables are exactly at the bounds\n",
      "At iterate     0  f=       160.43  |proj g|=    0.0003604\n",
      "At iterate     1  f =       160.43  |proj g|=    0.00036037\n",
      "\n",
      "iterations 1\n",
      "function evaluations 2\n",
      "segments explored during Cauchy searches 1\n",
      "BFGS updates skipped 0\n",
      "active bounds at final generalized Cauchy point 0\n",
      "norm of the final projected gradient 0.000360367\n",
      "final function value 160.429\n",
      "\n",
      "F = 160.429\n",
      "final  value 160.429315 \n",
      "converged\n"
     ]
    },
    {
     "name": "stderr",
     "output_type": "stream",
     "text": [
      "[mbo] 6: x=8.66 : y = 4.21e+03 : 0.0 secs : infill_ei\n",
      "\n"
     ]
    },
    {
     "name": "stdout",
     "output_type": "stream",
     "text": [
      "\n",
      "optimisation start\n",
      "------------------\n",
      "* estimation method   : MLE \n",
      "* optimisation method : BFGS \n",
      "* analytical gradient : used\n",
      "* trend model : ~1\n",
      "* covariance model : \n",
      "  - type :  matern3_2 \n",
      "  - nugget : NO\n",
      "  - parameters lower bounds :  1e-10 \n",
      "  - parameters upper bounds :  310.8679 \n",
      "  - best initial criterion value(s) :  -176.0587 \n",
      "\n",
      "N = 1, M = 5 machine precision = 2.22045e-16\n",
      "At X0, 0 variables are exactly at the bounds\n",
      "At iterate     0  f=       176.06  |proj g|=    0.0013564\n",
      "At iterate     1  f =       176.06  |proj g|=     0.0013563\n",
      "At iterate     2  f =       176.05  |proj g|=    0.00020466\n",
      "At iterate     3  f =       176.05  |proj g|=    3.6924e-05\n",
      "At iterate     4  f =       176.05  |proj g|=    1.2807e-06\n",
      "At iterate     5  f =       176.05  |proj g|=    8.3748e-09\n",
      "\n",
      "iterations 5\n",
      "function evaluations 6\n",
      "segments explored during Cauchy searches 5\n",
      "BFGS updates skipped 0\n",
      "active bounds at final generalized Cauchy point 0\n",
      "norm of the final projected gradient 8.3748e-09\n",
      "final function value 176.047\n",
      "\n",
      "F = 176.047\n",
      "final  value 176.047494 \n",
      "converged\n"
     ]
    },
    {
     "name": "stderr",
     "output_type": "stream",
     "text": [
      "[mbo] 7: x=34.2 : y = -1.22e+06 : 0.0 secs : infill_ei\n",
      "\n"
     ]
    },
    {
     "name": "stdout",
     "output_type": "stream",
     "text": [
      "\n",
      "optimisation start\n",
      "------------------\n",
      "* estimation method   : MLE \n",
      "* optimisation method : BFGS \n",
      "* analytical gradient : used\n",
      "* trend model : ~1\n",
      "* covariance model : \n",
      "  - type :  matern3_2 \n",
      "  - nugget : NO\n",
      "  - parameters lower bounds :  1e-10 \n",
      "  - parameters upper bounds :  310.8679 \n",
      "  - best initial criterion value(s) :  -192.4699 \n",
      "\n",
      "N = 1, M = 5 machine precision = 2.22045e-16\n",
      "At X0, 0 variables are exactly at the bounds\n",
      "At iterate     0  f=       192.47  |proj g|=   0.00012949\n",
      "At iterate     1  f =       192.47  |proj g|=    0.00012949\n",
      "\n",
      "iterations 1\n",
      "function evaluations 2\n",
      "segments explored during Cauchy searches 1\n",
      "BFGS updates skipped 0\n",
      "active bounds at final generalized Cauchy point 0\n",
      "norm of the final projected gradient 0.000129489\n",
      "final function value 192.47\n",
      "\n",
      "F = 192.47\n",
      "final  value 192.469948 \n",
      "converged\n"
     ]
    },
    {
     "name": "stderr",
     "output_type": "stream",
     "text": [
      "[mbo] 8: x=14.3 : y = 2.12e+04 : 0.0 secs : infill_ei\n",
      "\n"
     ]
    },
    {
     "name": "stdout",
     "output_type": "stream",
     "text": [
      "\n",
      "optimisation start\n",
      "------------------\n",
      "* estimation method   : MLE \n",
      "* optimisation method : BFGS \n",
      "* analytical gradient : used\n",
      "* trend model : ~1\n",
      "* covariance model : \n",
      "  - type :  matern3_2 \n",
      "  - nugget : NO\n",
      "  - parameters lower bounds :  1e-10 \n",
      "  - parameters upper bounds :  310.8679 \n",
      "  - best initial criterion value(s) :  -207.042 \n",
      "\n",
      "N = 1, M = 5 machine precision = 2.22045e-16\n",
      "At X0, 0 variables are exactly at the bounds\n",
      "At iterate     0  f=       207.04  |proj g|=   0.00056957\n",
      "At iterate     1  f =       207.04  |proj g|=    0.00056955\n",
      "\n",
      "iterations 1\n",
      "function evaluations 2\n",
      "segments explored during Cauchy searches 1\n",
      "BFGS updates skipped 0\n",
      "active bounds at final generalized Cauchy point 0\n",
      "norm of the final projected gradient 0.000569547\n",
      "final function value 207.042\n",
      "\n",
      "F = 207.042\n",
      "final  value 207.041987 \n",
      "converged\n"
     ]
    },
    {
     "name": "stderr",
     "output_type": "stream",
     "text": [
      "[mbo] 9: x=3.1 : y = -195 : 0.0 secs : infill_ei\n",
      "\n"
     ]
    },
    {
     "name": "stdout",
     "output_type": "stream",
     "text": [
      "\n",
      "optimisation start\n",
      "------------------\n",
      "* estimation method   : MLE \n",
      "* optimisation method : BFGS \n",
      "* analytical gradient : used\n",
      "* trend model : ~1\n",
      "* covariance model : \n",
      "  - type :  matern3_2 \n",
      "  - nugget : NO\n",
      "  - parameters lower bounds :  1e-10 \n",
      "  - parameters upper bounds :  310.8679 \n",
      "  - best initial criterion value(s) :  -221.4456 \n",
      "\n",
      "N = 1, M = 5 machine precision = 2.22045e-16\n",
      "At X0, 0 variables are exactly at the bounds\n",
      "At iterate     0  f=       221.45  |proj g|=   9.4861e-05\n",
      "At iterate     1  f =       221.45  |proj g|=    9.4858e-05\n",
      "\n",
      "iterations 1\n",
      "function evaluations 2\n",
      "segments explored during Cauchy searches 1\n",
      "BFGS updates skipped 0\n",
      "active bounds at final generalized Cauchy point 0\n",
      "norm of the final projected gradient 9.48585e-05\n",
      "final function value 221.446\n",
      "\n",
      "F = 221.446\n",
      "final  value 221.445643 \n",
      "converged\n"
     ]
    },
    {
     "name": "stderr",
     "output_type": "stream",
     "text": [
      "[mbo] 10: x=-7.14 : y = 4.39e+04 : 0.0 secs : infill_ei\n",
      "\n"
     ]
    },
    {
     "name": "stdout",
     "output_type": "stream",
     "text": [
      "\n",
      "optimisation start\n",
      "------------------\n",
      "* estimation method   : MLE \n",
      "* optimisation method : BFGS \n",
      "* analytical gradient : used\n",
      "* trend model : ~1\n",
      "* covariance model : \n",
      "  - type :  matern3_2 \n",
      "  - nugget : NO\n",
      "  - parameters lower bounds :  1e-10 \n",
      "  - parameters upper bounds :  310.8679 \n",
      "  - best initial criterion value(s) :  -235.6517 \n",
      "\n",
      "N = 1, M = 5 machine precision = 2.22045e-16\n",
      "At X0, 0 variables are exactly at the bounds\n",
      "At iterate     0  f=       235.65  |proj g|=    9.733e-05\n",
      "At iterate     1  f =       235.65  |proj g|=    9.7328e-05\n",
      "\n",
      "iterations 1\n",
      "function evaluations 2\n",
      "segments explored during Cauchy searches 1\n",
      "BFGS updates skipped 0\n",
      "active bounds at final generalized Cauchy point 0\n",
      "norm of the final projected gradient 9.73278e-05\n",
      "final function value 235.652\n",
      "\n",
      "F = 235.652\n",
      "final  value 235.651707 \n",
      "converged\n"
     ]
    },
    {
     "name": "stderr",
     "output_type": "stream",
     "text": [
      "[mbo] 11: x=28 : y = -3.9e+05 : 0.0 secs : infill_ei\n",
      "\n"
     ]
    },
    {
     "name": "stdout",
     "output_type": "stream",
     "text": [
      "\n",
      "optimisation start\n",
      "------------------\n",
      "* estimation method   : MLE \n",
      "* optimisation method : BFGS \n",
      "* analytical gradient : used\n",
      "* trend model : ~1\n",
      "* covariance model : \n",
      "  - type :  matern3_2 \n",
      "  - nugget : NO\n",
      "  - parameters lower bounds :  1e-10 \n",
      "  - parameters upper bounds :  310.8679 \n",
      "  - best initial criterion value(s) :  -250.079 \n",
      "\n",
      "N = 1, M = 5 machine precision = 2.22045e-16\n",
      "At X0, 0 variables are exactly at the bounds\n",
      "At iterate     0  f=       250.08  |proj g|=   0.00014841\n",
      "At iterate     1  f =       250.08  |proj g|=    0.00014841\n",
      "\n",
      "iterations 1\n",
      "function evaluations 2\n",
      "segments explored during Cauchy searches 1\n",
      "BFGS updates skipped 0\n",
      "active bounds at final generalized Cauchy point 0\n",
      "norm of the final projected gradient 0.000148406\n",
      "final function value 250.079\n",
      "\n",
      "F = 250.079\n",
      "final  value 250.078984 \n",
      "converged\n"
     ]
    },
    {
     "name": "stderr",
     "output_type": "stream",
     "text": [
      "[mbo] 12: x=-16.4 : y = -1.1e+05 : 0.0 secs : infill_ei\n",
      "\n"
     ]
    },
    {
     "name": "stdout",
     "output_type": "stream",
     "text": [
      "\n",
      "optimisation start\n",
      "------------------\n",
      "* estimation method   : MLE \n",
      "* optimisation method : BFGS \n",
      "* analytical gradient : used\n",
      "* trend model : ~1\n",
      "* covariance model : \n",
      "  - type :  matern3_2 \n",
      "  - nugget : NO\n",
      "  - parameters lower bounds :  1e-10 \n",
      "  - parameters upper bounds :  310.8679 \n",
      "  - best initial criterion value(s) :  -264.2661 \n",
      "\n",
      "N = 1, M = 5 machine precision = 2.22045e-16\n",
      "At X0, 0 variables are exactly at the bounds\n",
      "At iterate     0  f=       264.27  |proj g|=   0.00073987\n",
      "At iterate     1  f =       264.27  |proj g|=    0.00073985\n",
      "\n",
      "iterations 1\n",
      "function evaluations 2\n",
      "segments explored during Cauchy searches 1\n",
      "BFGS updates skipped 0\n",
      "active bounds at final generalized Cauchy point 0\n",
      "norm of the final projected gradient 0.000739848\n",
      "final function value 264.266\n",
      "\n",
      "F = 264.266\n",
      "final  value 264.266147 \n",
      "converged\n"
     ]
    },
    {
     "name": "stderr",
     "output_type": "stream",
     "text": [
      "[mbo] 13: x=17.2 : y = 1.58e+04 : 0.0 secs : infill_ei\n",
      "\n"
     ]
    },
    {
     "name": "stdout",
     "output_type": "stream",
     "text": [
      "\n",
      "optimisation start\n",
      "------------------\n",
      "* estimation method   : MLE \n",
      "* optimisation method : BFGS \n",
      "* analytical gradient : used\n",
      "* trend model : ~1\n",
      "* covariance model : \n",
      "  - type :  matern3_2 \n",
      "  - nugget : NO\n",
      "  - parameters lower bounds :  1e-10 \n",
      "  - parameters upper bounds :  310.8679 \n",
      "  - best initial criterion value(s) :  -277.663 \n",
      "\n",
      "N = 1, M = 5 machine precision = 2.22045e-16\n",
      "At X0, 0 variables are exactly at the bounds\n",
      "At iterate     0  f=       277.66  |proj g|=    0.0016732\n",
      "At iterate     1  f =       277.66  |proj g|=     0.0016732\n",
      "At iterate     2  f =       277.64  |proj g|=             0\n",
      "\n",
      "iterations 2\n",
      "function evaluations 3\n",
      "segments explored during Cauchy searches 2\n",
      "BFGS updates skipped 0\n",
      "active bounds at final generalized Cauchy point 1\n",
      "norm of the final projected gradient 0\n",
      "final function value 277.639\n",
      "\n",
      "F = 277.639\n",
      "final  value 277.638862 \n",
      "converged\n"
     ]
    },
    {
     "name": "stderr",
     "output_type": "stream",
     "text": [
      "[mbo] 14: x=-4.7 : y = 3.54e+04 : 0.0 secs : infill_ei\n",
      "\n"
     ]
    },
    {
     "name": "stdout",
     "output_type": "stream",
     "text": [
      "\n",
      "optimisation start\n",
      "------------------\n",
      "* estimation method   : MLE \n",
      "* optimisation method : BFGS \n",
      "* analytical gradient : used\n",
      "* trend model : ~1\n",
      "* covariance model : \n",
      "  - type :  matern3_2 \n",
      "  - nugget : NO\n",
      "  - parameters lower bounds :  1e-10 \n",
      "  - parameters upper bounds :  310.8679 \n",
      "  - best initial criterion value(s) :  -290.7653 \n",
      "\n",
      "N = 1, M = 5 machine precision = 2.22045e-16\n",
      "At X0, 0 variables are exactly at the bounds\n",
      "At iterate     0  f=       290.77  |proj g|=    0.0021653\n",
      "At iterate     1  f =       290.77  |proj g|=     0.0021653\n",
      "At iterate     2  f =       290.74  |proj g|=             0\n",
      "\n",
      "iterations 2\n",
      "function evaluations 3\n",
      "segments explored during Cauchy searches 2\n",
      "BFGS updates skipped 0\n",
      "active bounds at final generalized Cauchy point 1\n",
      "norm of the final projected gradient 0\n",
      "final function value 290.741\n",
      "\n",
      "F = 290.741\n",
      "final  value 290.740680 \n",
      "converged\n"
     ]
    },
    {
     "name": "stderr",
     "output_type": "stream",
     "text": [
      "[mbo] 15: x=11.5 : y = 1.39e+04 : 0.0 secs : infill_ei\n",
      "\n"
     ]
    },
    {
     "name": "stdout",
     "output_type": "stream",
     "text": [
      "\n",
      "optimisation start\n",
      "------------------\n",
      "* estimation method   : MLE \n",
      "* optimisation method : BFGS \n",
      "* analytical gradient : used\n",
      "* trend model : ~1\n",
      "* covariance model : \n",
      "  - type :  matern3_2 \n",
      "  - nugget : NO\n",
      "  - parameters lower bounds :  1e-10 \n",
      "  - parameters upper bounds :  310.8679 \n",
      "  - best initial criterion value(s) :  -304.0734 \n",
      "\n",
      "N = 1, M = 5 machine precision = 2.22045e-16\n",
      "At X0, 0 variables are exactly at the bounds\n",
      "At iterate     0  f=       304.07  |proj g|=    0.0043413\n",
      "At iterate     1  f =       304.07  |proj g|=      0.004341\n",
      "At iterate     2  f =       303.93  |proj g|=             0\n",
      "\n",
      "iterations 2\n",
      "function evaluations 3\n",
      "segments explored during Cauchy searches 2\n",
      "BFGS updates skipped 0\n",
      "active bounds at final generalized Cauchy point 1\n",
      "norm of the final projected gradient 0\n",
      "final function value 303.929\n",
      "\n",
      "F = 303.929\n",
      "final  value 303.928602 \n",
      "converged\n"
     ]
    },
    {
     "name": "stderr",
     "output_type": "stream",
     "text": [
      "[mbo] 16: x=-9.48 : y = 4.13e+04 : 0.0 secs : infill_ei\n",
      "\n"
     ]
    },
    {
     "name": "stdout",
     "output_type": "stream",
     "text": [
      "\n",
      "optimisation start\n",
      "------------------\n",
      "* estimation method   : MLE \n",
      "* optimisation method : BFGS \n",
      "* analytical gradient : used\n",
      "* trend model : ~1\n",
      "* covariance model : \n",
      "  - type :  matern3_2 \n",
      "  - nugget : NO\n",
      "  - parameters lower bounds :  1e-10 \n",
      "  - parameters upper bounds :  310.8679 \n",
      "  - best initial criterion value(s) :  -316.8354 \n",
      "\n",
      "N = 1, M = 5 machine precision = 2.22045e-16\n",
      "At X0, 0 variables are exactly at the bounds\n",
      "At iterate     0  f=       316.84  |proj g|=     0.003139\n",
      "At iterate     1  f =       316.84  |proj g|=     0.0031388\n",
      "At iterate     2  f =       316.82  |proj g|=             0\n",
      "\n",
      "iterations 2\n",
      "function evaluations 3\n",
      "segments explored during Cauchy searches 2\n",
      "BFGS updates skipped 0\n",
      "active bounds at final generalized Cauchy point 1\n",
      "norm of the final projected gradient 0\n",
      "final function value 316.819\n",
      "\n",
      "F = 316.819\n",
      "final  value 316.818821 \n",
      "converged\n"
     ]
    },
    {
     "name": "stderr",
     "output_type": "stream",
     "text": [
      "[mbo] 17: x=5.82 : y = -1.65e+03 : 0.0 secs : infill_ei\n",
      "\n"
     ]
    },
    {
     "name": "stdout",
     "output_type": "stream",
     "text": [
      "\n",
      "optimisation start\n",
      "------------------\n",
      "* estimation method   : MLE \n",
      "* optimisation method : BFGS \n",
      "* analytical gradient : used\n",
      "* trend model : ~1\n",
      "* covariance model : \n",
      "  - type :  matern3_2 \n",
      "  - nugget : NO\n",
      "  - parameters lower bounds :  1e-10 \n",
      "  - parameters upper bounds :  310.8679 \n",
      "  - best initial criterion value(s) :  -329.9735 \n",
      "\n",
      "N = 1, M = 5 machine precision = 2.22045e-16\n",
      "At X0, 0 variables are exactly at the bounds\n",
      "At iterate     0  f=       329.97  |proj g|=    0.0040455\n",
      "At iterate     1  f =       329.97  |proj g|=     0.0040453\n",
      "At iterate     2  f =       329.93  |proj g|=             0\n",
      "\n",
      "iterations 2\n",
      "function evaluations 3\n",
      "segments explored during Cauchy searches 2\n",
      "BFGS updates skipped 0\n",
      "active bounds at final generalized Cauchy point 1\n",
      "norm of the final projected gradient 0\n",
      "final function value 329.928\n",
      "\n",
      "F = 329.928\n",
      "final  value 329.928408 \n",
      "converged\n"
     ]
    },
    {
     "name": "stderr",
     "output_type": "stream",
     "text": [
      "[mbo] 18: x=0.421 : y = 8.46e+03 : 0.0 secs : infill_ei\n",
      "\n"
     ]
    },
    {
     "name": "stdout",
     "output_type": "stream",
     "text": [
      "\n",
      "optimisation start\n",
      "------------------\n",
      "* estimation method   : MLE \n",
      "* optimisation method : BFGS \n",
      "* analytical gradient : used\n",
      "* trend model : ~1\n",
      "* covariance model : \n",
      "  - type :  matern3_2 \n",
      "  - nugget : NO\n",
      "  - parameters lower bounds :  1e-10 \n",
      "  - parameters upper bounds :  310.8679 \n",
      "  - best initial criterion value(s) :  -342.9199 \n",
      "\n",
      "N = 1, M = 5 machine precision = 2.22045e-16\n",
      "At X0, 0 variables are exactly at the bounds\n",
      "At iterate     0  f=       342.92  |proj g|=    0.0046639\n",
      "At iterate     1  f =       342.92  |proj g|=     0.0046637\n",
      "At iterate     2  f =       342.87  |proj g|=             0\n",
      "\n",
      "iterations 2\n",
      "function evaluations 3\n",
      "segments explored during Cauchy searches 2\n",
      "BFGS updates skipped 0\n",
      "active bounds at final generalized Cauchy point 1\n",
      "norm of the final projected gradient 0\n",
      "final function value 342.869\n",
      "\n",
      "F = 342.869\n",
      "final  value 342.869044 \n",
      "converged\n"
     ]
    },
    {
     "name": "stderr",
     "output_type": "stream",
     "text": [
      "[mbo] 19: x=-13.8 : y = -1.93e+04 : 0.0 secs : infill_ei\n",
      "\n"
     ]
    },
    {
     "name": "stdout",
     "output_type": "stream",
     "text": [
      "\n",
      "optimisation start\n",
      "------------------\n",
      "* estimation method   : MLE \n",
      "* optimisation method : BFGS \n",
      "* analytical gradient : used\n",
      "* trend model : ~1\n",
      "* covariance model : \n",
      "  - type :  matern3_2 \n",
      "  - nugget : NO\n",
      "  - parameters lower bounds :  1e-10 \n",
      "  - parameters upper bounds :  310.8679 \n",
      "  - best initial criterion value(s) :  -355.7226 \n",
      "\n",
      "N = 1, M = 5 machine precision = 2.22045e-16\n",
      "At X0, 0 variables are exactly at the bounds\n",
      "At iterate     0  f=       355.72  |proj g|=    0.0054871\n",
      "At iterate     1  f =       355.72  |proj g|=     0.0054868\n",
      "At iterate     2  f =       355.65  |proj g|=             0\n",
      "\n",
      "iterations 2\n",
      "function evaluations 3\n",
      "segments explored during Cauchy searches 2\n",
      "BFGS updates skipped 0\n",
      "active bounds at final generalized Cauchy point 1\n",
      "norm of the final projected gradient 0\n",
      "final function value 355.647\n",
      "\n",
      "F = 355.647\n",
      "final  value 355.646592 \n",
      "converged\n"
     ]
    },
    {
     "name": "stderr",
     "output_type": "stream",
     "text": [
      "[mbo] 20: x=-8.29 : y = 4.44e+04 : 0.0 secs : infill_ei\n",
      "\n"
     ]
    },
    {
     "name": "stdout",
     "output_type": "stream",
     "text": [
      "\n",
      "optimisation start\n",
      "------------------\n",
      "* estimation method   : MLE \n",
      "* optimisation method : BFGS \n",
      "* analytical gradient : used\n",
      "* trend model : ~1\n",
      "* covariance model : \n",
      "  - type :  matern3_2 \n",
      "  - nugget : NO\n",
      "  - parameters lower bounds :  1e-10 \n",
      "  - parameters upper bounds :  310.8679 \n",
      "  - best initial criterion value(s) :  -367.4836 \n",
      "\n",
      "N = 1, M = 5 machine precision = 2.22045e-16\n",
      "At X0, 0 variables are exactly at the bounds\n",
      "At iterate     0  f=       367.48  |proj g|=     0.005572\n",
      "At iterate     1  f =       367.48  |proj g|=     0.0055717\n",
      "At iterate     2  f =       367.45  |proj g|=             0\n",
      "\n",
      "iterations 2\n",
      "function evaluations 3\n",
      "segments explored during Cauchy searches 2\n",
      "BFGS updates skipped 0\n",
      "active bounds at final generalized Cauchy point 1\n",
      "norm of the final projected gradient 0\n",
      "final function value 367.454\n",
      "\n",
      "F = 367.454\n",
      "final  value 367.454221 \n",
      "converged\n"
     ]
    },
    {
     "name": "stderr",
     "output_type": "stream",
     "text": [
      "[mbo] 21: x=-5.93 : y = 4.07e+04 : 0.0 secs : infill_ei\n",
      "\n"
     ]
    },
    {
     "name": "stdout",
     "output_type": "stream",
     "text": [
      "\n",
      "optimisation start\n",
      "------------------\n",
      "* estimation method   : MLE \n",
      "* optimisation method : BFGS \n",
      "* analytical gradient : used\n",
      "* trend model : ~1\n",
      "* covariance model : \n",
      "  - type :  matern3_2 \n",
      "  - nugget : NO\n",
      "  - parameters lower bounds :  1e-10 \n",
      "  - parameters upper bounds :  310.8679 \n",
      "  - best initial criterion value(s) :  -379.2497 \n",
      "\n",
      "N = 1, M = 5 machine precision = 2.22045e-16\n",
      "At X0, 0 variables are exactly at the bounds\n",
      "At iterate     0  f=       379.25  |proj g|=    0.0058856\n",
      "At iterate     1  f =       379.25  |proj g|=     0.0058853\n",
      "At iterate     2  f =       379.25  |proj g|=             0\n",
      "\n",
      "iterations 2\n",
      "function evaluations 3\n",
      "segments explored during Cauchy searches 2\n",
      "BFGS updates skipped 0\n",
      "active bounds at final generalized Cauchy point 1\n",
      "norm of the final projected gradient 0\n",
      "final function value 379.248\n",
      "\n",
      "F = 379.248\n",
      "final  value 379.247602 \n",
      "converged\n"
     ]
    },
    {
     "name": "stderr",
     "output_type": "stream",
     "text": [
      "[mbo] 22: x=15.7 : y = 2.09e+04 : 0.0 secs : infill_ei\n",
      "\n"
     ]
    },
    {
     "name": "stdout",
     "output_type": "stream",
     "text": [
      "\n",
      "optimisation start\n",
      "------------------\n",
      "* estimation method   : MLE \n",
      "* optimisation method : BFGS \n",
      "* analytical gradient : used\n",
      "* trend model : ~1\n",
      "* covariance model : \n",
      "  - type :  matern3_2 \n",
      "  - nugget : NO\n",
      "  - parameters lower bounds :  1e-10 \n",
      "  - parameters upper bounds :  310.8679 \n",
      "  - best initial criterion value(s) :  -391.4994 \n",
      "\n",
      "N = 1, M = 5 machine precision = 2.22045e-16\n",
      "At X0, 0 variables are exactly at the bounds\n",
      "At iterate     0  f=        391.5  |proj g|=    0.0078687\n",
      "At iterate     1  f =        391.5  |proj g|=     0.0078681\n",
      "At iterate     2  f =       391.35  |proj g|=             0\n",
      "\n",
      "iterations 2\n",
      "function evaluations 3\n",
      "segments explored during Cauchy searches 2\n",
      "BFGS updates skipped 0\n",
      "active bounds at final generalized Cauchy point 1\n",
      "norm of the final projected gradient 0\n",
      "final function value 391.35\n",
      "\n",
      "F = 391.35\n",
      "final  value 391.349862 \n",
      "converged\n"
     ]
    },
    {
     "name": "stderr",
     "output_type": "stream",
     "text": [
      "[mbo] 23: x=-3.43 : y = 2.88e+04 : 0.0 secs : infill_ei\n",
      "\n"
     ]
    },
    {
     "name": "stdout",
     "output_type": "stream",
     "text": [
      "\n",
      "optimisation start\n",
      "------------------\n",
      "* estimation method   : MLE \n",
      "* optimisation method : BFGS \n",
      "* analytical gradient : used\n",
      "* trend model : ~1\n",
      "* covariance model : \n",
      "  - type :  matern3_2 \n",
      "  - nugget : NO\n",
      "  - parameters lower bounds :  1e-10 \n",
      "  - parameters upper bounds :  310.8679 \n",
      "  - best initial criterion value(s) :  -403.4005 \n",
      "\n",
      "N = 1, M = 5 machine precision = 2.22045e-16\n",
      "At X0, 0 variables are exactly at the bounds\n",
      "At iterate     0  f=        403.4  |proj g|=    0.0090351\n",
      "At iterate     1  f =        403.4  |proj g|=     0.0090343\n",
      "At iterate     2  f =       403.19  |proj g|=             0\n",
      "\n",
      "iterations 2\n",
      "function evaluations 3\n",
      "segments explored during Cauchy searches 2\n",
      "BFGS updates skipped 0\n",
      "active bounds at final generalized Cauchy point 1\n",
      "norm of the final projected gradient 0\n",
      "final function value 403.185\n",
      "\n",
      "F = 403.185\n",
      "final  value 403.185478 \n",
      "converged\n"
     ]
    },
    {
     "name": "stderr",
     "output_type": "stream",
     "text": [
      "[mbo] 24: x=18.8 : y = 2.69e+03 : 0.0 secs : infill_ei\n",
      "\n"
     ]
    },
    {
     "name": "stdout",
     "output_type": "stream",
     "text": [
      "\n",
      "optimisation start\n",
      "------------------\n",
      "* estimation method   : MLE \n",
      "* optimisation method : BFGS \n",
      "* analytical gradient : used\n",
      "* trend model : ~1\n",
      "* covariance model : \n",
      "  - type :  matern3_2 \n",
      "  - nugget : NO\n",
      "  - parameters lower bounds :  1e-10 \n",
      "  - parameters upper bounds :  310.8679 \n",
      "  - best initial criterion value(s) :  -415.3896 \n",
      "\n",
      "N = 1, M = 5 machine precision = 2.22045e-16\n",
      "At X0, 0 variables are exactly at the bounds\n",
      "At iterate     0  f=       415.39  |proj g|=     0.007873\n",
      "At iterate     1  f =       415.39  |proj g|=     0.0078724\n",
      "At iterate     2  f =       415.36  |proj g|=             0\n",
      "\n",
      "iterations 2\n",
      "function evaluations 3\n",
      "segments explored during Cauchy searches 2\n",
      "BFGS updates skipped 0\n",
      "active bounds at final generalized Cauchy point 1\n",
      "norm of the final projected gradient 0\n",
      "final function value 415.362\n",
      "\n",
      "F = 415.362\n",
      "final  value 415.362296 \n",
      "converged\n"
     ]
    },
    {
     "name": "stderr",
     "output_type": "stream",
     "text": [
      "[mbo] 25: x=12.9 : y = 1.84e+04 : 0.0 secs : infill_ei\n",
      "\n"
     ]
    },
    {
     "name": "stdout",
     "output_type": "stream",
     "text": [
      "\n",
      "optimisation start\n",
      "------------------\n",
      "* estimation method   : MLE \n",
      "* optimisation method : BFGS \n",
      "* analytical gradient : used\n",
      "* trend model : ~1\n",
      "* covariance model : \n",
      "  - type :  matern3_2 \n",
      "  - nugget : NO\n",
      "  - parameters lower bounds :  1e-10 \n",
      "  - parameters upper bounds :  310.8679 \n",
      "  - best initial criterion value(s) :  -427.4475 \n",
      "\n",
      "N = 1, M = 5 machine precision = 2.22045e-16\n",
      "At X0, 0 variables are exactly at the bounds\n",
      "At iterate     0  f=       427.45  |proj g|=    0.0094905\n",
      "At iterate     1  f =       427.45  |proj g|=     0.0094897\n",
      "At iterate     2  f =        427.3  |proj g|=             0\n",
      "\n",
      "iterations 2\n",
      "function evaluations 3\n",
      "segments explored during Cauchy searches 2\n",
      "BFGS updates skipped 0\n",
      "active bounds at final generalized Cauchy point 1\n",
      "norm of the final projected gradient 0\n",
      "final function value 427.303\n",
      "\n",
      "F = 427.303\n",
      "final  value 427.303103 \n",
      "converged\n"
     ]
    }
   ],
   "source": [
    "run  <- mbo( fun=      obj.fun, \n",
    "             learner= fproxy, \n",
    "             control= ctrl )"
   ]
  },
  {
   "cell_type": "code",
   "execution_count": null,
   "metadata": {},
   "outputs": [],
   "source": [
    "tb_resultados  <- as.data.table( run$opt.path )"
   ]
  },
  {
   "cell_type": "code",
   "execution_count": null,
   "metadata": {},
   "outputs": [],
   "source": [
    "tb_resultados"
   ]
  },
  {
   "cell_type": "code",
   "execution_count": null,
   "metadata": {},
   "outputs": [],
   "source": [
    "tb_resultados[ which.max( tb_resultados$y ) ]"
   ]
  },
  {
   "cell_type": "markdown",
   "metadata": {},
   "source": [
    "### Conclusiones"
   ]
  },
  {
   "cell_type": "markdown",
   "metadata": {},
   "source": [
    "La gran pregunta es :  la Optimización Bayesiana, ¿se focaliza luego de muchas iteraciones solo en el entorno del máximo que está cerca de x= -8 ?"
   ]
  }
 ],
 "metadata": {
  "kernelspec": {
   "display_name": "R",
   "language": "R",
   "name": "ir"
  },
  "language_info": {
   "codemirror_mode": "r",
   "file_extension": ".r",
   "mimetype": "text/x-r-source",
   "name": "R",
   "pygments_lexer": "r",
   "version": "4.2.1"
  }
 },
 "nbformat": 4,
 "nbformat_minor": 4
}
