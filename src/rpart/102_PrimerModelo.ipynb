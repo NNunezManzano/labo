{
 "cells": [
  {
   "cell_type": "markdown",
   "metadata": {},
   "source": [
    "Arbol elemental con libreria  rpart"
   ]
  },
  {
   "cell_type": "markdown",
   "metadata": {},
   "source": [
    "Debe tener instaladas las librerias  data.table  ,  rpart   y rpart.plot"
   ]
  },
  {
   "cell_type": "code",
   "execution_count": 1,
   "metadata": {
    "vscode": {
     "languageId": "r"
    }
   },
   "outputs": [
    {
     "name": "stderr",
     "output_type": "stream",
     "text": [
      "Loading required package: data.table\n",
      "\n",
      "Loading required package: rpart\n",
      "\n",
      "Loading required package: rpart.plot\n",
      "\n"
     ]
    }
   ],
   "source": [
    "#cargo las librerias que necesito\n",
    "require(\"data.table\")\n",
    "require(\"rpart\")\n",
    "require(\"rpart.plot\")"
   ]
  },
  {
   "cell_type": "markdown",
   "metadata": {},
   "source": [
    "Aqui se debe poner la carpeta de SU computadora local"
   ]
  },
  {
   "cell_type": "code",
   "execution_count": 2,
   "metadata": {
    "jupyter": {
     "source_hidden": true
    },
    "tags": [],
    "vscode": {
     "languageId": "r"
    }
   },
   "outputs": [],
   "source": [
    "setwd(\"/home/nnm/Documents/Facu/1-Maestria/DMEF\")  #Establezco el Working Directory"
   ]
  },
  {
   "cell_type": "markdown",
   "metadata": {},
   "source": [
    "\"/home/nnm/Documents/Facu/1-Maestria/DMEF\"cargo el dataset"
   ]
  },
  {
   "cell_type": "code",
   "execution_count": 3,
   "metadata": {
    "vscode": {
     "languageId": "r"
    }
   },
   "outputs": [],
   "source": [
    "dataset  <- fread(\"./datasets/competencia1_2022.csv\")"
   ]
  },
  {
   "cell_type": "markdown",
   "metadata": {},
   "source": [
    "defino donde entreno y donde aplico el modelo"
   ]
  },
  {
   "cell_type": "code",
   "execution_count": 4,
   "metadata": {
    "vscode": {
     "languageId": "r"
    }
   },
   "outputs": [],
   "source": [
    "dtrain  <- dataset[ foto_mes==202101 ]  #defino donde voy a entrenar\n",
    "dapply  <- dataset[ foto_mes==202103 ]  #defino donde voy a aplicar el modelo"
   ]
  },
  {
   "cell_type": "code",
   "execution_count": 14,
   "metadata": {
    "vscode": {
     "languageId": "r"
    }
   },
   "outputs": [
    {
     "data": {
      "text/html": [
       "<table class=\"dataframe\">\n",
       "<caption>A data.table: 5 × 155</caption>\n",
       "<thead>\n",
       "\t<tr><th scope=col>numero_de_cliente</th><th scope=col>foto_mes</th><th scope=col>active_quarter</th><th scope=col>cliente_vip</th><th scope=col>internet</th><th scope=col>cliente_edad</th><th scope=col>cliente_antiguedad</th><th scope=col>mrentabilidad</th><th scope=col>mrentabilidad_annual</th><th scope=col>mcomisiones</th><th scope=col>⋯</th><th scope=col>Visa_fultimo_cierre</th><th scope=col>Visa_mpagado</th><th scope=col>Visa_mpagospesos</th><th scope=col>Visa_mpagosdolares</th><th scope=col>Visa_fechaalta</th><th scope=col>Visa_mconsumototal</th><th scope=col>Visa_cconsumos</th><th scope=col>Visa_cadelantosefectivo</th><th scope=col>Visa_mpagominimo</th><th scope=col>clase_ternaria</th></tr>\n",
       "\t<tr><th scope=col>&lt;int&gt;</th><th scope=col>&lt;int&gt;</th><th scope=col>&lt;int&gt;</th><th scope=col>&lt;int&gt;</th><th scope=col>&lt;int&gt;</th><th scope=col>&lt;int&gt;</th><th scope=col>&lt;int&gt;</th><th scope=col>&lt;dbl&gt;</th><th scope=col>&lt;dbl&gt;</th><th scope=col>&lt;dbl&gt;</th><th scope=col>⋯</th><th scope=col>&lt;int&gt;</th><th scope=col>&lt;dbl&gt;</th><th scope=col>&lt;dbl&gt;</th><th scope=col>&lt;dbl&gt;</th><th scope=col>&lt;int&gt;</th><th scope=col>&lt;dbl&gt;</th><th scope=col>&lt;int&gt;</th><th scope=col>&lt;int&gt;</th><th scope=col>&lt;dbl&gt;</th><th scope=col>&lt;chr&gt;</th></tr>\n",
       "</thead>\n",
       "<tbody>\n",
       "\t<tr><td>31127916</td><td>202101</td><td>1</td><td>0</td><td>0</td><td>42</td><td>277</td><td>2649.44</td><td>30930.84</td><td>2519.56</td><td>⋯</td><td>11</td><td> 3485.96</td><td> -3448.72</td><td>0</td><td>5103</td><td> 3002.88</td><td>2</td><td>0</td><td> 598.23</td><td>BAJA+1</td></tr>\n",
       "\t<tr><td>31328871</td><td>202101</td><td>1</td><td>0</td><td>0</td><td>83</td><td>293</td><td> 335.32</td><td>17274.70</td><td>1699.39</td><td>⋯</td><td>25</td><td>48368.31</td><td>-44473.12</td><td>0</td><td>7490</td><td> 2768.26</td><td>4</td><td>0</td><td>3964.74</td><td>BAJA+1</td></tr>\n",
       "\t<tr><td>31406150</td><td>202101</td><td>1</td><td>0</td><td>0</td><td>69</td><td>296</td><td> 567.94</td><td>14262.98</td><td>1246.04</td><td>⋯</td><td> 4</td><td>    0.00</td><td>-13090.55</td><td>0</td><td>4772</td><td>    0.00</td><td>0</td><td>0</td><td>   0.00</td><td>BAJA+1</td></tr>\n",
       "\t<tr><td>31518298</td><td>202101</td><td>1</td><td>0</td><td>0</td><td>56</td><td> 13</td><td>-149.22</td><td>  893.80</td><td> 303.60</td><td>⋯</td><td> 4</td><td>    0.00</td><td> -4926.60</td><td>0</td><td> 377</td><td> 3941.29</td><td>4</td><td>0</td><td> 586.50</td><td>BAJA+1</td></tr>\n",
       "\t<tr><td>31551292</td><td>202101</td><td>1</td><td>0</td><td>0</td><td>50</td><td> 93</td><td>3002.50</td><td> 6436.35</td><td>2564.83</td><td>⋯</td><td> 4</td><td>    0.00</td><td>-38246.48</td><td>0</td><td>2019</td><td>15901.17</td><td>6</td><td>0</td><td>9864.93</td><td>BAJA+1</td></tr>\n",
       "</tbody>\n",
       "</table>\n"
      ],
      "text/latex": [
       "A data.table: 5 × 155\n",
       "\\begin{tabular}{lllllllllllllllllllll}\n",
       " numero\\_de\\_cliente & foto\\_mes & active\\_quarter & cliente\\_vip & internet & cliente\\_edad & cliente\\_antiguedad & mrentabilidad & mrentabilidad\\_annual & mcomisiones & ⋯ & Visa\\_fultimo\\_cierre & Visa\\_mpagado & Visa\\_mpagospesos & Visa\\_mpagosdolares & Visa\\_fechaalta & Visa\\_mconsumototal & Visa\\_cconsumos & Visa\\_cadelantosefectivo & Visa\\_mpagominimo & clase\\_ternaria\\\\\n",
       " <int> & <int> & <int> & <int> & <int> & <int> & <int> & <dbl> & <dbl> & <dbl> & ⋯ & <int> & <dbl> & <dbl> & <dbl> & <int> & <dbl> & <int> & <int> & <dbl> & <chr>\\\\\n",
       "\\hline\n",
       "\t 31127916 & 202101 & 1 & 0 & 0 & 42 & 277 & 2649.44 & 30930.84 & 2519.56 & ⋯ & 11 &  3485.96 &  -3448.72 & 0 & 5103 &  3002.88 & 2 & 0 &  598.23 & BAJA+1\\\\\n",
       "\t 31328871 & 202101 & 1 & 0 & 0 & 83 & 293 &  335.32 & 17274.70 & 1699.39 & ⋯ & 25 & 48368.31 & -44473.12 & 0 & 7490 &  2768.26 & 4 & 0 & 3964.74 & BAJA+1\\\\\n",
       "\t 31406150 & 202101 & 1 & 0 & 0 & 69 & 296 &  567.94 & 14262.98 & 1246.04 & ⋯ &  4 &     0.00 & -13090.55 & 0 & 4772 &     0.00 & 0 & 0 &    0.00 & BAJA+1\\\\\n",
       "\t 31518298 & 202101 & 1 & 0 & 0 & 56 &  13 & -149.22 &   893.80 &  303.60 & ⋯ &  4 &     0.00 &  -4926.60 & 0 &  377 &  3941.29 & 4 & 0 &  586.50 & BAJA+1\\\\\n",
       "\t 31551292 & 202101 & 1 & 0 & 0 & 50 &  93 & 3002.50 &  6436.35 & 2564.83 & ⋯ &  4 &     0.00 & -38246.48 & 0 & 2019 & 15901.17 & 6 & 0 & 9864.93 & BAJA+1\\\\\n",
       "\\end{tabular}\n"
      ],
      "text/markdown": [
       "\n",
       "A data.table: 5 × 155\n",
       "\n",
       "| numero_de_cliente &lt;int&gt; | foto_mes &lt;int&gt; | active_quarter &lt;int&gt; | cliente_vip &lt;int&gt; | internet &lt;int&gt; | cliente_edad &lt;int&gt; | cliente_antiguedad &lt;int&gt; | mrentabilidad &lt;dbl&gt; | mrentabilidad_annual &lt;dbl&gt; | mcomisiones &lt;dbl&gt; | ⋯ ⋯ | Visa_fultimo_cierre &lt;int&gt; | Visa_mpagado &lt;dbl&gt; | Visa_mpagospesos &lt;dbl&gt; | Visa_mpagosdolares &lt;dbl&gt; | Visa_fechaalta &lt;int&gt; | Visa_mconsumototal &lt;dbl&gt; | Visa_cconsumos &lt;int&gt; | Visa_cadelantosefectivo &lt;int&gt; | Visa_mpagominimo &lt;dbl&gt; | clase_ternaria &lt;chr&gt; |\n",
       "|---|---|---|---|---|---|---|---|---|---|---|---|---|---|---|---|---|---|---|---|---|\n",
       "| 31127916 | 202101 | 1 | 0 | 0 | 42 | 277 | 2649.44 | 30930.84 | 2519.56 | ⋯ | 11 |  3485.96 |  -3448.72 | 0 | 5103 |  3002.88 | 2 | 0 |  598.23 | BAJA+1 |\n",
       "| 31328871 | 202101 | 1 | 0 | 0 | 83 | 293 |  335.32 | 17274.70 | 1699.39 | ⋯ | 25 | 48368.31 | -44473.12 | 0 | 7490 |  2768.26 | 4 | 0 | 3964.74 | BAJA+1 |\n",
       "| 31406150 | 202101 | 1 | 0 | 0 | 69 | 296 |  567.94 | 14262.98 | 1246.04 | ⋯ |  4 |     0.00 | -13090.55 | 0 | 4772 |     0.00 | 0 | 0 |    0.00 | BAJA+1 |\n",
       "| 31518298 | 202101 | 1 | 0 | 0 | 56 |  13 | -149.22 |   893.80 |  303.60 | ⋯ |  4 |     0.00 |  -4926.60 | 0 |  377 |  3941.29 | 4 | 0 |  586.50 | BAJA+1 |\n",
       "| 31551292 | 202101 | 1 | 0 | 0 | 50 |  93 | 3002.50 |  6436.35 | 2564.83 | ⋯ |  4 |     0.00 | -38246.48 | 0 | 2019 | 15901.17 | 6 | 0 | 9864.93 | BAJA+1 |\n",
       "\n"
      ],
      "text/plain": [
       "  numero_de_cliente foto_mes active_quarter cliente_vip internet cliente_edad\n",
       "1 31127916          202101   1              0           0        42          \n",
       "2 31328871          202101   1              0           0        83          \n",
       "3 31406150          202101   1              0           0        69          \n",
       "4 31518298          202101   1              0           0        56          \n",
       "5 31551292          202101   1              0           0        50          \n",
       "  cliente_antiguedad mrentabilidad mrentabilidad_annual mcomisiones ⋯\n",
       "1 277                2649.44       30930.84             2519.56     ⋯\n",
       "2 293                 335.32       17274.70             1699.39     ⋯\n",
       "3 296                 567.94       14262.98             1246.04     ⋯\n",
       "4  13                -149.22         893.80              303.60     ⋯\n",
       "5  93                3002.50        6436.35             2564.83     ⋯\n",
       "  Visa_fultimo_cierre Visa_mpagado Visa_mpagospesos Visa_mpagosdolares\n",
       "1 11                   3485.96      -3448.72        0                 \n",
       "2 25                  48368.31     -44473.12        0                 \n",
       "3  4                      0.00     -13090.55        0                 \n",
       "4  4                      0.00      -4926.60        0                 \n",
       "5  4                      0.00     -38246.48        0                 \n",
       "  Visa_fechaalta Visa_mconsumototal Visa_cconsumos Visa_cadelantosefectivo\n",
       "1 5103            3002.88           2              0                      \n",
       "2 7490            2768.26           4              0                      \n",
       "3 4772               0.00           0              0                      \n",
       "4  377            3941.29           4              0                      \n",
       "5 2019           15901.17           6              0                      \n",
       "  Visa_mpagominimo clase_ternaria\n",
       "1  598.23          BAJA+1        \n",
       "2 3964.74          BAJA+1        \n",
       "3    0.00          BAJA+1        \n",
       "4  586.50          BAJA+1        \n",
       "5 9864.93          BAJA+1        "
      ]
     },
     "metadata": {},
     "output_type": "display_data"
    }
   ],
   "source": [
    "dtrain[clase_ternaria == \"BAJA+1\"]"
   ]
  },
  {
   "cell_type": "markdown",
   "metadata": {},
   "source": [
    "genero el modelo,  aqui se construye el arbol"
   ]
  },
  {
   "cell_type": "code",
   "execution_count": 19,
   "metadata": {
    "tags": [],
    "vscode": {
     "languageId": "r"
    }
   },
   "outputs": [],
   "source": [
    "modelo  <- rpart(formula=    \"clase_ternaria ~ .\", #quiero predecir clase_ternaria a partir de el resto de las variables\n",
    "                 data =      dtrain,  #los datos donde voy a entrenar\n",
    "                 xval=       0,\n",
    "                 cp=        -0.3, #esto significa no limitar la complejidad de los splits\n",
    "                 minsplit= 50,   #minima cantidad de registros para que se haga el split\n",
    "                 minbucket=  1,   #tamaño minimo de una hoja\n",
    "                 maxdepth=  10 )  #PRUEBO  una profundidad de 10"
   ]
  },
  {
   "cell_type": "markdown",
   "metadata": {},
   "source": [
    "Ahora grafico el arbol, va a ser muy frondoso porque la profundidad es de 10"
   ]
  },
  {
   "cell_type": "code",
   "execution_count": 20,
   "metadata": {
    "vscode": {
     "languageId": "r"
    }
   },
   "outputs": [],
   "source": [
    "#prp(modelo, extra=101, digits=5, branch=1, type=4, varlen=0, faclen=0)"
   ]
  },
  {
   "cell_type": "markdown",
   "metadata": {},
   "source": [
    "Ahora aplico al modelo  a los datos muevos  y genero la salida para kaggle"
   ]
  },
  {
   "cell_type": "markdown",
   "metadata": {},
   "source": [
    "aplico el modelo a los datos nuevos"
   ]
  },
  {
   "cell_type": "code",
   "execution_count": 21,
   "metadata": {
    "vscode": {
     "languageId": "r"
    }
   },
   "outputs": [],
   "source": [
    "prediccion  <- predict( modelo, dapply , type = \"prob\") #aplico el modelo"
   ]
  },
  {
   "cell_type": "markdown",
   "metadata": {},
   "source": [
    "prediccion es una matriz con TRES columnas, llamadas \"BAJA+1\", \"BAJA+2\"  y \"CONTINUA\"\n",
    "cada columna es el vector de probabilidades "
   ]
  },
  {
   "cell_type": "markdown",
   "metadata": {},
   "source": [
    "agrego a dapply una columna nueva que es la probabilidad de BAJA+2"
   ]
  },
  {
   "cell_type": "code",
   "execution_count": 22,
   "metadata": {
    "vscode": {
     "languageId": "r"
    }
   },
   "outputs": [],
   "source": [
    "dapply[ , prob_baja2 := prediccion[, \"BAJA+2\"] ]"
   ]
  },
  {
   "cell_type": "markdown",
   "metadata": {},
   "source": [
    "solo le envio estimulo a los registros con probabilidad de BAJA+2 mayor  a  1/40"
   ]
  },
  {
   "cell_type": "code",
   "execution_count": 23,
   "metadata": {
    "vscode": {
     "languageId": "r"
    }
   },
   "outputs": [],
   "source": [
    "dapply[ , Predicted  := as.numeric(prob_baja2 > 1/40) ]"
   ]
  },
  {
   "cell_type": "markdown",
   "metadata": {},
   "source": [
    "Finalmente genero el archivo para Kaggle"
   ]
  },
  {
   "cell_type": "markdown",
   "metadata": {},
   "source": [
    "creo la carpeta donde va el experimento"
   ]
  },
  {
   "cell_type": "code",
   "execution_count": 24,
   "metadata": {
    "vscode": {
     "languageId": "r"
    }
   },
   "outputs": [],
   "source": [
    "#dir.create( \"./exp/KA2002\" ) "
   ]
  },
  {
   "cell_type": "markdown",
   "metadata": {},
   "source": [
    "grabo el dataset"
   ]
  },
  {
   "cell_type": "code",
   "execution_count": 25,
   "metadata": {
    "vscode": {
     "languageId": "r"
    }
   },
   "outputs": [],
   "source": [
    "fwrite( dapply[ , list(numero_de_cliente, Predicted) ], #solo los campos para Kaggle\n",
    "        file= \"./exp/KA2002/KA2002_003.csv\", \n",
    "        sep= \",\" )"
   ]
  }
 ],
 "metadata": {
  "kernelspec": {
   "display_name": "R",
   "language": "R",
   "name": "ir"
  },
  "language_info": {
   "codemirror_mode": "r",
   "file_extension": ".r",
   "mimetype": "text/x-r-source",
   "name": "R",
   "pygments_lexer": "r",
   "version": "4.2.1"
  }
 },
 "nbformat": 4,
 "nbformat_minor": 4
}
